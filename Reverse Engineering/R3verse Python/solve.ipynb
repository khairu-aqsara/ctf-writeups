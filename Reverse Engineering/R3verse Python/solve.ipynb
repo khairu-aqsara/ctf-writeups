{
 "cells": [
  {
   "cell_type": "code",
   "execution_count": 1,
   "id": "incorporated-classroom",
   "metadata": {},
   "outputs": [],
   "source": [
    "import dis"
   ]
  },
  {
   "cell_type": "code",
   "execution_count": 97,
   "id": "great-principle",
   "metadata": {},
   "outputs": [
    {
     "name": "stdout",
     "output_type": "stream",
     "text": [
      "  9           0 LOAD_CONST               1 ('')\n",
      "              2 STORE_FAST               2 (res)\n",
      "\n",
      " 10           4 LOAD_GLOBAL              0 (range)\n",
      "              6 LOAD_GLOBAL              1 (len)\n",
      "              8 LOAD_FAST                1 (target)\n",
      "             10 CALL_FUNCTION            1\n",
      "             12 CALL_FUNCTION            1\n",
      "             14 GET_ITER\n",
      "        >>   16 FOR_ITER                36 (to 54)\n",
      "             18 STORE_FAST               3 (x)\n",
      "\n",
      " 11          20 LOAD_FAST                2 (res)\n",
      "             22 LOAD_GLOBAL              2 (chr)\n",
      "             24 LOAD_FAST                3 (x)\n",
      "             26 LOAD_GLOBAL              3 (ord)\n",
      "             28 LOAD_FAST                1 (target)\n",
      "             30 LOAD_FAST                3 (x)\n",
      "             32 BINARY_SUBSCR\n",
      "             34 CALL_FUNCTION            1\n",
      "             36 BINARY_ADD\n",
      "             38 LOAD_FAST                0 (self)\n",
      "             40 LOAD_METHOD              4 (CreateKey)\n",
      "             42 CALL_METHOD              0\n",
      "             44 BINARY_XOR\n",
      "             46 CALL_FUNCTION            1\n",
      "             48 INPLACE_ADD\n",
      "             50 STORE_FAST               2 (res)\n",
      "             52 JUMP_ABSOLUTE           16\n",
      "\n",
      " 12     >>   54 LOAD_FAST                2 (res)\n",
      "             56 RETURN_VALUE\n"
     ]
    }
   ],
   "source": [
    "class Chal():\n",
    "    def __init__(self):\n",
    "        self.text = 'SCT?g]'\n",
    "        \n",
    "    def CreateKey(self):\n",
    "        return 16\n",
    "    \n",
    "    def Decrypt(self,target):\n",
    "        res = ''\n",
    "        for x in range(len(target)):\n",
    "            res += chr((x + ord(target[x])) ^ self.CreateKey())\n",
    "        return res\n",
    "    \n",
    "    def Encrypt(self):\n",
    "        target = self.text\n",
    "        res = ''\n",
    "        for x in range(len(target)):\n",
    "            res += chr((ord(target[x]) ^ self.CreateKey()) - x)\n",
    "        return res\n",
    "        \n",
    "dis.dis(Chal.Decrypt)"
   ]
  },
  {
   "cell_type": "code",
   "execution_count": 102,
   "id": "affecting-judgment",
   "metadata": {},
   "outputs": [
    {
     "name": "stdout",
     "output_type": "stream",
     "text": [
      "CTFR{r3v3rs3_pyth0n_\u000es_34sy_r1ght?<?}\n"
     ]
    }
   ],
   "source": [
    "with open('encrypted.txt', 'r') as f:\n",
    "    fs = f.read()\n",
    "    a = Chal()\n",
    "    print(a.Decrypt(fs))"
   ]
  },
  {
   "cell_type": "code",
   "execution_count": null,
   "id": "narrative-collectible",
   "metadata": {},
   "outputs": [],
   "source": []
  }
 ],
 "metadata": {
  "kernelspec": {
   "display_name": "Python 3",
   "language": "python",
   "name": "python3"
  },
  "language_info": {
   "codemirror_mode": {
    "name": "ipython",
    "version": 3
   },
   "file_extension": ".py",
   "mimetype": "text/x-python",
   "name": "python",
   "nbconvert_exporter": "python",
   "pygments_lexer": "ipython3",
   "version": "3.8.7"
  }
 },
 "nbformat": 4,
 "nbformat_minor": 5
}
