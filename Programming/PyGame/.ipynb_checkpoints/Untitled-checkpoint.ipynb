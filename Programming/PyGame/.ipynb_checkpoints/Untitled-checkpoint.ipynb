{
 "cells": [
  {
   "cell_type": "code",
   "execution_count": 1,
   "metadata": {},
   "outputs": [],
   "source": [
    "from PIL import Image\n",
    "from string import printable\n",
    "from itertools import chain"
   ]
  },
  {
   "cell_type": "code",
   "execution_count": 2,
   "metadata": {},
   "outputs": [],
   "source": [
    "def genNumber(min, max):\n",
    "    res = []\n",
    "    for x in range(min, max + 1):\n",
    "        if x > 1:\n",
    "            for i in range(2, x):\n",
    "                if (x % i) == 0:\n",
    "                    break\n",
    "            else:\n",
    "                res.append(x)\n",
    "    return res"
   ]
  },
  {
   "cell_type": "code",
   "execution_count": 70,
   "metadata": {},
   "outputs": [],
   "source": [
    "def getObjColor(x):\n",
    "    stor = ord(x)\n",
    "    x = ord(x)\n",
    "    if x >= 65 and x <= 90:\n",
    "        x += 38\n",
    "    elif x >= 97 and x <= 122:\n",
    "        x += 50\n",
    "    else:\n",
    "        x += 19\n",
    "    num = genNumber(stor - 64, stor)\n",
    "    v1 = abs(num[4] - c)\n",
    "    v2 = abs(num[6] + c)\n",
    "    v3 = (v1 * v2) % 255\n",
    "    return (v1 + v2, v3 ^ x, v3)"
   ]
  },
  {
   "cell_type": "code",
   "execution_count": 161,
   "metadata": {},
   "outputs": [
    {
     "name": "stdout",
     "output_type": "stream",
     "text": [
      "CTFR{wh3n_y0u_h4t3_p1x3l_but_th4t_w45_t45k_y0u_mu5t_t0_s0lv3_1t}\n"
     ]
    }
   ],
   "source": [
    "img = Image.open('challenge_pygame.png')\n",
    "pixel = img.load()\n",
    "\n",
    "\n",
    "width, height = img.size\n",
    "flag ='_' * 64\n",
    "c=0\n",
    "\n",
    "len_flag = len(flag)\n",
    "max_height = int(round(height / len_flag))\n",
    "\n",
    "pr = 'CTFR0123456789abcdefghijklmnopqrstuvwxyz{}_?'\n",
    "fl = []\n",
    "\n",
    "for ch in range(0,720, 11):\n",
    "    for x in printable:\n",
    "        p = pixel[12,ch+25]\n",
    "        v = p[2] ^ p[1]\n",
    "        f = ord(x)\n",
    "        if f >= 65 and f <= 90:\n",
    "            f+=38\n",
    "        elif f >= 97 and f <= 122:\n",
    "            f+=49\n",
    "        else:\n",
    "            f+=8\n",
    "        \n",
    "        banding = f ^ p[2]\n",
    "        if banding == p[1]:\n",
    "            fl.append(x)\n",
    "            break\n",
    "print(''.join(fl).replace(\"A\",\"_\"))\n",
    "\n"
   ]
  },
  {
   "cell_type": "code",
   "execution_count": null,
   "metadata": {},
   "outputs": [],
   "source": []
  }
 ],
 "metadata": {
  "kernelspec": {
   "display_name": "Python 3",
   "language": "python",
   "name": "python3"
  },
  "language_info": {
   "codemirror_mode": {
    "name": "ipython",
    "version": 3
   },
   "file_extension": ".py",
   "mimetype": "text/x-python",
   "name": "python",
   "nbconvert_exporter": "python",
   "pygments_lexer": "ipython3",
   "version": "3.9.1"
  }
 },
 "nbformat": 4,
 "nbformat_minor": 4
}
