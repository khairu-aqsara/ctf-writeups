{
 "cells": [
  {
   "cell_type": "code",
   "execution_count": 1,
   "metadata": {},
   "outputs": [],
   "source": [
    "import binascii"
   ]
  },
  {
   "cell_type": "code",
   "execution_count": 74,
   "metadata": {},
   "outputs": [
    {
     "name": "stdout",
     "output_type": "stream",
     "text": [
      "ûÉeçÒ",
      "¨",
      "yümÐÓöÙ}¥âèïª{¾h¸limäÌ³Ýã¸ÛÂÖÿÅx°ÇÚpâgtßàÉ»ëÎkúp",
      "ÅâÕ",
      "ÀàgÐäÑv¤ÆoxÁþÌhtºÑ¡Þã±îÚôÓàþ±àsÏtÅÒvÐ¶ºËf¨oç\n",
      "-------------------------------\n",
      "äûÆqÛ¯ß¢·|Ç¯§ÓÄÏhÙ¹ëµ´²·qÞàìÆ¥ÚõµÖ}è±ùéª}üâ¬æ÷kyÉäôíËàx¤©záóÍð¬¹pêÒ·÷ïzâÉgºwzÖøn{Æ­¹ÊýçñÉ£dÅÜ~u°÷æÉð§inÀ",
      "Ó\n",
      "-------------------------------\n",
      "CTFR{ju5t_r4nd0m_m4c_4ddr355}ÀÃkÒí½h½q¼ÐíàiÂã÷ÿ~÷äj¹¾§õàØÀ³¹£Öiw²°åÂlß¶»ûí¶üÕÒºÆÛ¨ÇïìÖ®ð¾ù¯Îg úßyi qh÷ÑÇuÓäñÍôÝÛ\n",
      "-------------------------------\n",
      "­ÛøÄ|¡©Ççl¤Éêù­þíÞ¼ñÉ¾yùÔÏpí¿à¡Ëö",
      "lá¥þÞÝÎö÷ø¯Ï¢ÎÀmenúþ»ÓuÄÓ²¥ùåÜÄ¬»i¦f¼«ìÁ}¦ªªá}ÛßíýòÄÊíÃ³¾îûÇßeÌ|­ÖelÊd\n",
      "-------------------------------\n",
      "ôÞÐrj¼dwÅq¸¼jëãÎnqÔãë®åýÓèãÞö´wþwðÂg÷ÒÏÀóñoqÅõèé£l£Ðg¿©«æ÷Äh¤·ð­×ï½ùÅà´qp¿§gýïºë§¤~¢ðjßên¯¥ÕÎ±ÌäwäØ\n",
      "-------------------------------\n",
      "­é½¥àÅeÓpåkóÝ³Ùç~Öl°Æí¥«gØô Â",
      "zsÔyäü«ä¬÷¤ÙÕÈôóØp³À×",
      "q¸»trÆä¥Öüm½ÚÌfÁáË¯gõu·yÑçò¢ìpéèóÅíq¶÷Ôk¨{¤°ãå¿è\n"
     ]
    }
   ],
   "source": [
    "with open('result_mac_hacker.txt','r') as f:\n",
    "    line = f.readlines()\n",
    "    flag1 = []\n",
    "    flag2 = []\n",
    "    flag3 = []\n",
    "    flag4 = []\n",
    "    flag5 = []\n",
    "    flag6 = []\n",
    "    \n",
    "    baris = 0\n",
    "    for l in line:\n",
    "        if baris % 4 == 0:\n",
    "            l = l.strip()\n",
    "            flag1.append(binascii.unhexlify(l[:2]).decode('latin'))\n",
    "            flag2.append(binascii.unhexlify(l[3:5]).decode('latin'))\n",
    "            flag3.append(binascii.unhexlify(l[6:8]).decode('latin'))\n",
    "            flag4.append(binascii.unhexlify(l[9:11]).decode('latin'))\n",
    "            flag5.append(binascii.unhexlify(l[12:14]).decode('latin'))\n",
    "            flag6.append(binascii.unhexlify(l[15:17]).decode('latin'))\n",
    "        baris+=1\n",
    "        \n",
    "        \n",
    "    print(''.join([x for x in flag1[:-1]]))\n",
    "    print(\"-------------------------------\")\n",
    "    print(''.join([x for x in flag2[:-1]]))\n",
    "    print(\"-------------------------------\")\n",
    "    print(''.join([x for x in flag3[:-1]]))\n",
    "    print(\"-------------------------------\")\n",
    "    print(''.join([x for x in flag4[:-1]]))\n",
    "    print(\"-------------------------------\")\n",
    "    print(''.join([x for x in flag5[:-1]]))\n",
    "    print(\"-------------------------------\")\n",
    "    print(''.join([x for x in flag6[:-1]]))"
   ]
  },
  {
   "cell_type": "code",
   "execution_count": null,
   "metadata": {},
   "outputs": [],
   "source": []
  }
 ],
 "metadata": {
  "kernelspec": {
   "display_name": "Python 3",
   "language": "python",
   "name": "python3"
  },
  "language_info": {
   "codemirror_mode": {
    "name": "ipython",
    "version": 3
   },
   "file_extension": ".py",
   "mimetype": "text/x-python",
   "name": "python",
   "nbconvert_exporter": "python",
   "pygments_lexer": "ipython3",
   "version": "3.9.1"
  }
 },
 "nbformat": 4,
 "nbformat_minor": 4
}
