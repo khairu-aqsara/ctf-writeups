{
 "cells": [
  {
   "cell_type": "code",
   "execution_count": 1,
   "id": "patent-masters",
   "metadata": {},
   "outputs": [],
   "source": [
    "import binascii"
   ]
  },
  {
   "cell_type": "code",
   "execution_count": 2,
   "id": "exclusive-renaissance",
   "metadata": {},
   "outputs": [],
   "source": [
    "enc = \"255465504989093787248104537982969745474445259944896331123851542522026611778579085886\"\n",
    "enc = binascii.unhexlify(enc)"
   ]
  },
  {
   "cell_type": "code",
   "execution_count": 3,
   "id": "brutal-event",
   "metadata": {},
   "outputs": [
    {
     "name": "stdout",
     "output_type": "stream",
     "text": [
      "b'%TePI\\x89\\t7\\x87$\\x81\\x04Sy\\x82\\x96\\x97EGDE%\\x99D\\x89c1\\x128QT%\"\\x02f\\x11w\\x85y\\x08X\\x86'\n",
      "42\n"
     ]
    }
   ],
   "source": [
    "print(enc)\n",
    "print(len(enc))"
   ]
  },
  {
   "cell_type": "code",
   "execution_count": 5,
   "id": "collaborative-increase",
   "metadata": {},
   "outputs": [],
   "source": [
    "for x in range(len(enc)):\n",
    "    flg = []\n",
    "    for i in range(256):\n",
    "        h = enc[x] ^ i\n",
    "        if h in range(255):\n",
    "            flg.append(chr(h))\n",
    "    print(''.join(flg))"
   ]
  },
  {
   "cell_type": "code",
   "execution_count": null,
   "id": "charming-undergraduate",
   "metadata": {},
   "outputs": [],
   "source": []
  },
  {
   "cell_type": "code",
   "execution_count": null,
   "id": "waiting-christianity",
   "metadata": {},
   "outputs": [],
   "source": []
  }
 ],
 "metadata": {
  "kernelspec": {
   "display_name": "Python 3",
   "language": "python",
   "name": "python3"
  },
  "language_info": {
   "codemirror_mode": {
    "name": "ipython",
    "version": 3
   },
   "file_extension": ".py",
   "mimetype": "text/x-python",
   "name": "python",
   "nbconvert_exporter": "python",
   "pygments_lexer": "ipython3",
   "version": "3.8.7"
  }
 },
 "nbformat": 4,
 "nbformat_minor": 5
}
