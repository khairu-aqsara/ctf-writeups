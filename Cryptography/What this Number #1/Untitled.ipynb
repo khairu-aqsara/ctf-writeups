{
 "cells": [
  {
   "cell_type": "code",
   "execution_count": 1,
   "id": "revised-budapest",
   "metadata": {},
   "outputs": [],
   "source": [
    "import binascii"
   ]
  },
  {
   "cell_type": "code",
   "execution_count": 2,
   "id": "every-jewelry",
   "metadata": {},
   "outputs": [],
   "source": [
    "enc = \"255465504989093787248104537982969745474445259944896331123851542522026611778579085886\"\n",
    "enc = binascii.unhexlify(enc)"
   ]
  },
  {
   "cell_type": "code",
   "execution_count": 3,
   "id": "distributed-concert",
   "metadata": {},
   "outputs": [
    {
     "name": "stdout",
     "output_type": "stream",
     "text": [
      "b'%TePI\\x89\\t7\\x87$\\x81\\x04Sy\\x82\\x96\\x97EGDE%\\x99D\\x89c1\\x128QT%\"\\x02f\\x11w\\x85y\\x08X\\x86'\n",
      "42\n"
     ]
    }
   ],
   "source": [
    "print(enc)\n",
    "print(len(enc))"
   ]
  },
  {
   "cell_type": "code",
   "execution_count": 150,
   "id": "personal-spanish",
   "metadata": {},
   "outputs": [
    {
     "data": {
      "text/plain": [
       "114"
      ]
     },
     "execution_count": 150,
     "metadata": {},
     "output_type": "execute_result"
    }
   ],
   "source": [
    "ord('T') + 30 "
   ]
  },
  {
   "cell_type": "code",
   "execution_count": null,
   "id": "excessive-times",
   "metadata": {},
   "outputs": [],
   "source": []
  },
  {
   "cell_type": "code",
   "execution_count": null,
   "id": "ancient-slope",
   "metadata": {},
   "outputs": [],
   "source": []
  }
 ],
 "metadata": {
  "kernelspec": {
   "display_name": "Python 3",
   "language": "python",
   "name": "python3"
  },
  "language_info": {
   "codemirror_mode": {
    "name": "ipython",
    "version": 3
   },
   "file_extension": ".py",
   "mimetype": "text/x-python",
   "name": "python",
   "nbconvert_exporter": "python",
   "pygments_lexer": "ipython3",
   "version": "3.8.7"
  }
 },
 "nbformat": 4,
 "nbformat_minor": 5
}
